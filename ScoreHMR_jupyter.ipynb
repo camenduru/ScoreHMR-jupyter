{
  "cells": [
    {
      "cell_type": "markdown",
      "metadata": {
        "id": "view-in-github"
      },
      "source": [
        "[![Open In Colab](https://colab.research.google.com/assets/colab-badge.svg)](https://colab.research.google.com/github/camenduru/ScoreHMR-jupyter/blob/main/ScoreHMR_jupyter.ipynb)"
      ]
    },
    {
      "cell_type": "code",
      "execution_count": null,
      "metadata": {
        "id": "VjYy0F2gZIPR"
      },
      "outputs": [],
      "source": [
        "%cd /content\n",
        "!git clone --recursive -b dev https://github.com/camenduru/ScoreHMR\n",
        "%cd /content/ScoreHMR\n",
        "\n",
        "!pip install smplx==0.1.28 pyrender yacs einops ema_pytorch loguru\n",
        "!pip install https://github.com/camenduru/wheels/releases/download/colab/mmcv_full-1.4.8-cp310-cp310-linux_x86_64.whl\n",
        "!pip install https://github.com/camenduru/wheels/releases/download/colab/phalp-0.1.3-py3-none-any.whl\n",
        "# !pip install phalp[all]@git+https://github.com/brjathu/PHALP.git\n",
        "!pip install -e .\n",
        "!pip install -v -e ViTPose\n",
        "\n",
        "!apt -y install -qq aria2\n",
        "!aria2c --console-log-level=error -c -x 16 -s 16 -k 1M https://huggingface.co/camenduru/ScoreHMR/resolve/main/data.zip -d /content/ScoreHMR -o data.zip\n",
        "!unzip -q data.zip\n",
        "!aria2c --console-log-level=error -c -x 16 -s 16 -k 1M https://huggingface.co/camenduru/ScoreHMR/resolve/main/datasets.zip -d /content/ScoreHMR -o datasets\n",
        "!unzip -q datasets.zip\n",
        "!mv datasets/ data/\n",
        "\n",
        "# ⚠ According to the license we have to register and download the models at https://smplify.is.tue.mpg.de/register.php ⚠\n",
        "!aria2c --console-log-level=error -c -x 16 -s 16 -k 1M https://huggingface.co/camenduru/ScoreHMR/resolve/main/data/smpl/SMPL_NEUTRAL.pkl -d /content/ScoreHMR/data/smpl -o SMPL_NEUTRAL.pkl"
      ]
    },
    {
      "cell_type": "code",
      "execution_count": null,
      "metadata": {},
      "outputs": [],
      "source": [
        "%cd /content/ScoreHMR\n",
        "!python demo_image.py --img_folder example_data/images --out_folder demo_out/images"
      ]
    }
  ],
  "metadata": {
    "accelerator": "GPU",
    "colab": {
      "gpuType": "T4",
      "provenance": []
    },
    "kernelspec": {
      "display_name": "Python 3",
      "name": "python3"
    },
    "language_info": {
      "name": "python"
    }
  },
  "nbformat": 4,
  "nbformat_minor": 0
}
