{
  "cells": [
    {
      "cell_type": "markdown",
      "metadata": {
        "id": "view-in-github"
      },
      "source": [
        "[![Open In Colab](https://colab.research.google.com/assets/colab-badge.svg)](https://colab.research.google.com/github/camenduru/ScoreHMR-jupyter/blob/main/ScoreHMR_image_jupyter.ipynb)"
      ]
    },
    {
      "cell_type": "code",
      "execution_count": null,
      "metadata": {
        "id": "VjYy0F2gZIPR"
      },
      "outputs": [],
      "source": [
        "%cd /content\n",
        "!git clone --recursive -b dev https://github.com/camenduru/ScoreHMR\n",
        "%cd /content/ScoreHMR\n",
        "\n",
        "!pip install -q smplx==0.1.28 pyrender yacs einops ema_pytorch loguru\n",
        "!pip install -q https://github.com/camenduru/wheels/releases/download/colab/mmcv_full-1.4.8-cp310-cp310-linux_x86_64.whl\n",
        "!pip install -q https://github.com/camenduru/wheels/releases/download/colab/detectron2-0.6-cp310-cp310-linux_x86_64.whl\n",
        "!pip install -q phalp[all]@git+https://github.com/brjathu/PHALP.git\n",
        "!pip install -q -e .\n",
        "!pip install -q -v -e ViTPose"
      ]
    },
    {
      "cell_type": "code",
      "execution_count": null,
      "metadata": {},
      "outputs": [],
      "source": [
        "%cd /content/ScoreHMR\n",
        "!apt -y install -qq aria2\n",
        "!aria2c --console-log-level=error -c -x 16 -s 16 -k 1M https://huggingface.co/camenduru/ScoreHMR/resolve/main/data.zip -d /content/ScoreHMR -o data.zip\n",
        "!unzip -q data.zip\n",
        "!aria2c --console-log-level=error -c -x 16 -s 16 -k 1M https://huggingface.co/camenduru/ScoreHMR/resolve/main/datasets.zip -d /content/ScoreHMR -o datasets.zip\n",
        "!unzip -q datasets.zip\n",
        "!mv datasets/ data/\n",
        "\n",
        "!aria2c --console-log-level=error -c -x 16 -s 16 -k 1M https://huggingface.co/camenduru/ScoreHMR/resolve/main/4DHumans/hmr2_data.tar.gz -d /root/.cache/4DHumans -o hmr2_data.tar.gz\n",
        "!aria2c --console-log-level=error -c -x 16 -s 16 -k 1M https://huggingface.co/camenduru/ScoreHMR/raw/main/4DHumans/logs/train/multiruns/hmr2/0/model_config.yaml -d /root/.cache/4DHumans/logs/train/multiruns/hmr2/0 -o model_config.yaml\n",
        "!aria2c --console-log-level=error -c -x 16 -s 16 -k 1M https://huggingface.co/camenduru/ScoreHMR/raw/main/4DHumans/logs/train/multiruns/hmr2/0/dataset_config.yaml -d /root/.cache/4DHumans/logs/train/multiruns/hmr2/0 -o dataset_config.yaml\n",
        "!aria2c --console-log-level=error -c -x 16 -s 16 -k 1M https://huggingface.co/camenduru/ScoreHMR/resolve/main/4DHumans/logs/train/multiruns/hmr2/0/checkpoints/epoch%3D35-step%3D1000000.ckpt -d /root/.cache/4DHumans/logs/train/multiruns/hmr2/0/checkpoints -o epoch=35-step=1000000.ckpt\n",
        "!aria2c --console-log-level=error -c -x 16 -s 16 -k 1M https://huggingface.co/camenduru/ScoreHMR/resolve/main/4DHumans/data/SMPL_to_J19.pkl -d /root/.cache/4DHumans/data -o SMPL_to_J19.pkl\n",
        "!aria2c --console-log-level=error -c -x 16 -s 16 -k 1M https://huggingface.co/camenduru/ScoreHMR/resolve/main/4DHumans/data/smpl_mean_params.npz -d /root/.cache/4DHumans/data -o smpl_mean_params.npz\n",
        "\n",
        "# ⚠ According to the license we have to register and download the models at https://smplify.is.tue.mpg.de/register.php ⚠\n",
        "!aria2c --console-log-level=error -c -x 16 -s 16 -k 1M https://huggingface.co/camenduru/ScoreHMR/resolve/main/data/smpl/SMPL_NEUTRAL.pkl -d /content/ScoreHMR/data/smpl -o SMPL_NEUTRAL.pkl\n",
        "!cp /content/ScoreHMR/data/smpl/SMPL_NEUTRAL.pkl /content/ScoreHMR/data/basicModel_neutral_lbs_10_207_0_v1.0.0.pkl\n",
        "!mkdir /root/.cache/4DHumans/data/smpl\n",
        "!cp /content/ScoreHMR/data/smpl/SMPL_NEUTRAL.pkl /root/.cache/4DHumans/data/smpl/SMPL_NEUTRAL.pk"
      ]
    },
    {
      "cell_type": "code",
      "execution_count": null,
      "metadata": {},
      "outputs": [],
      "source": [
        "%cd /content/ScoreHMR\n",
        "!python demo_image.py --img_folder example_data/images --out_folder demo_out/images"
      ]
    }
  ],
  "metadata": {
    "accelerator": "GPU",
    "colab": {
      "gpuType": "T4",
      "provenance": []
    },
    "kernelspec": {
      "display_name": "Python 3",
      "name": "python3"
    },
    "language_info": {
      "name": "python"
    }
  },
  "nbformat": 4,
  "nbformat_minor": 0
}
